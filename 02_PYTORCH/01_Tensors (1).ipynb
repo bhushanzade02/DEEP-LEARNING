{
  "cells": [
    {
      "cell_type": "code",
      "execution_count": null,
      "metadata": {
        "colab": {
          "base_uri": "https://localhost:8080/"
        },
        "id": "FgRrc3rqOo9d",
        "outputId": "89e26cfe-6712-486e-b9e5-cab819939c70"
      },
      "outputs": [
        {
          "name": "stdout",
          "output_type": "stream",
          "text": [
            "2.8.0+cu126\n"
          ]
        }
      ],
      "source": [
        "import torch\n",
        "print(torch.__version__)"
      ]
    },
    {
      "cell_type": "code",
      "execution_count": null,
      "metadata": {
        "colab": {
          "base_uri": "https://localhost:8080/"
        },
        "id": "j8ZTN-A4O1mh",
        "outputId": "9e2e8e93-b5a7-4f0e-b9d5-e3a4cc3e5279"
      },
      "outputs": [
        {
          "name": "stdout",
          "output_type": "stream",
          "text": [
            "GPU is available\n",
            "using gpu : Tesla T4\n"
          ]
        }
      ],
      "source": [
        "if torch.cuda.is_available():\n",
        "  print(\"GPU is available\")\n",
        "  print(f\"using gpu : {torch.cuda.get_device_name(0)}\")\n",
        "else :\n",
        "  print(\"gpu is not available. using cpu \")"
      ]
    },
    {
      "cell_type": "code",
      "execution_count": null,
      "metadata": {
        "colab": {
          "background_save": true
        },
        "id": "YY4SRcxBQOmp"
      },
      "outputs": [],
      "source": [
        "## Crw"
      ]
    },
    {
      "cell_type": "markdown",
      "metadata": {
        "id": "ArXvoz3dQaU0"
      },
      "source": [
        "## Creating Tensors"
      ]
    },
    {
      "cell_type": "code",
      "execution_count": null,
      "metadata": {
        "colab": {
          "background_save": true
        },
        "id": "3-L2tFJWQcuB"
      },
      "outputs": [],
      "source": [
        "#using empty\n",
        "a = torch.empty(2,3)"
      ]
    },
    {
      "cell_type": "code",
      "execution_count": null,
      "metadata": {
        "colab": {
          "background_save": true,
          "base_uri": "https://localhost:8080/"
        },
        "id": "aJC603upQlmx",
        "outputId": "1ba4e58e-bf41-42e4-c8fc-ea3e55a9b617"
      },
      "outputs": [
        {
          "data": {
            "text/plain": [
              "torch.Tensor"
            ]
          },
          "execution_count": 147,
          "metadata": {},
          "output_type": "execute_result"
        }
      ],
      "source": [
        "type(a)"
      ]
    },
    {
      "cell_type": "code",
      "execution_count": null,
      "metadata": {
        "colab": {
          "background_save": true,
          "base_uri": "https://localhost:8080/"
        },
        "id": "XCTW0vkpQm2V",
        "outputId": "817024ab-4f8a-4007-82c2-e02ad497215b"
      },
      "outputs": [
        {
          "data": {
            "text/plain": [
              "tensor([[0., 0., 0., 0.],\n",
              "        [0., 0., 0., 0.],\n",
              "        [0., 0., 0., 0.]])"
            ]
          },
          "execution_count": 148,
          "metadata": {},
          "output_type": "execute_result"
        }
      ],
      "source": [
        "#using zeroes\n",
        "torch.zeros(3,4)"
      ]
    },
    {
      "cell_type": "code",
      "execution_count": null,
      "metadata": {
        "colab": {
          "background_save": true,
          "base_uri": "https://localhost:8080/"
        },
        "id": "Xgvbb9oAQt39",
        "outputId": "6f52300a-bb9b-4c29-f93d-3db07d7da64c"
      },
      "outputs": [
        {
          "data": {
            "text/plain": [
              "tensor([[1., 1., 1.],\n",
              "        [1., 1., 1.]])"
            ]
          },
          "execution_count": 149,
          "metadata": {},
          "output_type": "execute_result"
        }
      ],
      "source": [
        "#using ones\n",
        "torch.ones(2,3)"
      ]
    },
    {
      "cell_type": "code",
      "execution_count": null,
      "metadata": {
        "colab": {
          "background_save": true,
          "base_uri": "https://localhost:8080/"
        },
        "id": "1sboJueyQyEC",
        "outputId": "ab40e771-0487-44f7-a034-53a3eaa1ce94"
      },
      "outputs": [
        {
          "data": {
            "text/plain": [
              "tensor([[0.0894, 0.4781],\n",
              "        [0.6683, 0.6184],\n",
              "        [0.4098, 0.5525]])"
            ]
          },
          "execution_count": 150,
          "metadata": {},
          "output_type": "execute_result"
        }
      ],
      "source": [
        "#using rand\n",
        "torch.rand(3,2)"
      ]
    },
    {
      "cell_type": "code",
      "execution_count": null,
      "metadata": {
        "colab": {
          "background_save": true,
          "base_uri": "https://localhost:8080/"
        },
        "id": "5_S5GQC7Q4BO",
        "outputId": "c0d03fd0-4fc6-4680-a243-fa1e2b3bd968"
      },
      "outputs": [
        {
          "data": {
            "text/plain": [
              "tensor([[0.1819, 0.7287, 0.3675],\n",
              "        [0.6684, 0.2857, 0.3219]])"
            ]
          },
          "execution_count": 151,
          "metadata": {},
          "output_type": "execute_result"
        }
      ],
      "source": [
        "#using seed\n",
        "torch.manual_seed(90)\n",
        "torch.rand(2,3)"
      ]
    },
    {
      "cell_type": "code",
      "execution_count": null,
      "metadata": {
        "colab": {
          "background_save": true,
          "base_uri": "https://localhost:8080/"
        },
        "id": "cseSzIhbRB48",
        "outputId": "028a8d3f-1828-49ae-82aa-4fe1aa198eb0"
      },
      "outputs": [
        {
          "data": {
            "text/plain": [
              "tensor([[0.1819, 0.7287, 0.3675],\n",
              "        [0.6684, 0.2857, 0.3219]])"
            ]
          },
          "execution_count": 152,
          "metadata": {},
          "output_type": "execute_result"
        }
      ],
      "source": [
        "torch.manual_seed(90)\n",
        "torch.rand(2,3)"
      ]
    },
    {
      "cell_type": "code",
      "execution_count": null,
      "metadata": {
        "colab": {
          "background_save": true,
          "base_uri": "https://localhost:8080/"
        },
        "id": "-dZ__M3hRJ2l",
        "outputId": "380377e5-5c32-49a9-d09f-8636e9f7e640"
      },
      "outputs": [
        {
          "data": {
            "text/plain": [
              "tensor([[1, 2, 3],\n",
              "        [4, 5, 6]])"
            ]
          },
          "execution_count": 153,
          "metadata": {},
          "output_type": "execute_result"
        }
      ],
      "source": [
        "#using tensor\n",
        "torch.tensor([[1,2,3],[4,5,6]])"
      ]
    },
    {
      "cell_type": "code",
      "execution_count": null,
      "metadata": {
        "colab": {
          "background_save": true,
          "base_uri": "https://localhost:8080/"
        },
        "id": "BBE1MHcwRXQD",
        "outputId": "fd60b9eb-d2fa-4eeb-cdb8-a4f3c8b4b923"
      },
      "outputs": [
        {
          "name": "stdout",
          "output_type": "stream",
          "text": [
            "using arrange --> tensor([0, 2, 4, 6, 8])\n",
            "using linspace  tensor([ 0.0000,  1.1111,  2.2222,  3.3333,  4.4444,  5.5556,  6.6667,  7.7778,\n",
            "         8.8889, 10.0000])\n",
            "identity matrix  tensor([[1., 0., 0.],\n",
            "        [0., 1., 0.],\n",
            "        [0., 0., 1.]])\n",
            "tensor([[7, 7, 7],\n",
            "        [7, 7, 7],\n",
            "        [7, 7, 7]])\n"
          ]
        }
      ],
      "source": [
        "#other ways\n",
        "\n",
        "#arrange\n",
        "print(\"using arrange -->\", torch.arange(0,10,2))\n",
        "\n",
        "#using linspace\n",
        "print('using linspace ', torch.linspace(0,10,10))\n",
        "\n",
        "#using eye\n",
        "print(\"identity matrix \" , torch.eye(3,3))\n",
        "\n",
        "#using full\n",
        "print(torch.full((3,3),7))"
      ]
    },
    {
      "cell_type": "code",
      "execution_count": null,
      "metadata": {
        "colab": {
          "background_save": true
        },
        "id": "QhTlP0bdRmvM"
      },
      "outputs": [],
      "source": []
    },
    {
      "cell_type": "markdown",
      "metadata": {
        "id": "NzmSy4vfSmqq"
      },
      "source": [
        "## Tensor shapes\n"
      ]
    },
    {
      "cell_type": "code",
      "execution_count": null,
      "metadata": {
        "colab": {
          "background_save": true
        },
        "id": "agVpfT42Sn_H"
      },
      "outputs": [],
      "source": [
        "x = torch.tensor([[1,2,3],[4,5,6]])"
      ]
    },
    {
      "cell_type": "code",
      "execution_count": null,
      "metadata": {
        "colab": {
          "background_save": true,
          "base_uri": "https://localhost:8080/"
        },
        "id": "bAceVF7mSzCm",
        "outputId": "a7a7e34e-c046-42a7-f83a-4117d994bc9f"
      },
      "outputs": [
        {
          "data": {
            "text/plain": [
              "tensor([[1, 2, 3],\n",
              "        [4, 5, 6]])"
            ]
          },
          "execution_count": 156,
          "metadata": {},
          "output_type": "execute_result"
        }
      ],
      "source": [
        "x"
      ]
    },
    {
      "cell_type": "code",
      "execution_count": null,
      "metadata": {
        "colab": {
          "background_save": true,
          "base_uri": "https://localhost:8080/"
        },
        "id": "zvSYnc_OSzv4",
        "outputId": "675f7257-580f-43c0-8547-c257e417b0ea"
      },
      "outputs": [
        {
          "data": {
            "text/plain": [
              "torch.Size([2, 3])"
            ]
          },
          "execution_count": 157,
          "metadata": {},
          "output_type": "execute_result"
        }
      ],
      "source": [
        "x.shape"
      ]
    },
    {
      "cell_type": "code",
      "execution_count": null,
      "metadata": {
        "colab": {
          "background_save": true,
          "base_uri": "https://localhost:8080/"
        },
        "id": "uVHB44-_S1Qb",
        "outputId": "6a5db12d-68bf-4a87-9fd3-081cf2b753dd"
      },
      "outputs": [
        {
          "data": {
            "text/plain": [
              "tensor([[   298457279758336,               3444, 187744342098837504],\n",
              "        [          27984541, 249950290445467648,       150348431449]])"
            ]
          },
          "execution_count": 158,
          "metadata": {},
          "output_type": "execute_result"
        }
      ],
      "source": [
        "torch.empty_like(x)"
      ]
    },
    {
      "cell_type": "code",
      "execution_count": null,
      "metadata": {
        "colab": {
          "background_save": true,
          "base_uri": "https://localhost:8080/"
        },
        "id": "q2azQ5AdS5vt",
        "outputId": "9a10346d-6052-4f2b-a066-f96d39fd27e2"
      },
      "outputs": [
        {
          "data": {
            "text/plain": [
              "tensor([[0, 0, 0],\n",
              "        [0, 0, 0]])"
            ]
          },
          "execution_count": 159,
          "metadata": {},
          "output_type": "execute_result"
        }
      ],
      "source": [
        "torch.zeros_like(x)"
      ]
    },
    {
      "cell_type": "code",
      "execution_count": null,
      "metadata": {
        "colab": {
          "background_save": true,
          "base_uri": "https://localhost:8080/"
        },
        "id": "w418lSwfS_Q6",
        "outputId": "24be609d-669e-4cd2-faa9-74b4faeea0e9"
      },
      "outputs": [
        {
          "data": {
            "text/plain": [
              "tensor([[1, 1, 1],\n",
              "        [1, 1, 1]])"
            ]
          },
          "execution_count": 160,
          "metadata": {},
          "output_type": "execute_result"
        }
      ],
      "source": [
        "torch.ones_like(x)"
      ]
    },
    {
      "cell_type": "code",
      "execution_count": null,
      "metadata": {
        "colab": {
          "background_save": true,
          "base_uri": "https://localhost:8080/"
        },
        "id": "Rao31bgvTC7w",
        "outputId": "b0403259-4f41-4719-f1e6-6d561ddafe39"
      },
      "outputs": [
        {
          "data": {
            "text/plain": [
              "tensor([[0.5514, 0.9196, 0.6360],\n",
              "        [0.2115, 0.5336, 0.8606]])"
            ]
          },
          "execution_count": 161,
          "metadata": {},
          "output_type": "execute_result"
        }
      ],
      "source": [
        "torch.rand_like(x,dtype=torch.float32)"
      ]
    },
    {
      "cell_type": "code",
      "execution_count": null,
      "metadata": {
        "colab": {
          "background_save": true
        },
        "id": "tWkpQ8bjTLjB"
      },
      "outputs": [],
      "source": []
    },
    {
      "cell_type": "markdown",
      "metadata": {
        "id": "Rj1r1lOjTM1Y"
      },
      "source": [
        "## Tensor Data Types"
      ]
    },
    {
      "cell_type": "code",
      "execution_count": null,
      "metadata": {
        "colab": {
          "background_save": true,
          "base_uri": "https://localhost:8080/"
        },
        "id": "Fszl6vCsTPHe",
        "outputId": "c3ad9b29-74c9-4ad2-dcec-a1a1bcf7f66a"
      },
      "outputs": [
        {
          "data": {
            "text/plain": [
              "torch.int64"
            ]
          },
          "execution_count": 162,
          "metadata": {},
          "output_type": "execute_result"
        }
      ],
      "source": [
        "# find the datatype\n",
        "x.dtype"
      ]
    },
    {
      "cell_type": "code",
      "execution_count": null,
      "metadata": {
        "colab": {
          "background_save": true,
          "base_uri": "https://localhost:8080/"
        },
        "id": "-tPB1fpQTUWy",
        "outputId": "aaa8d88f-0157-44f7-f161-8e6349791a8a"
      },
      "outputs": [
        {
          "data": {
            "text/plain": [
              "tensor([1, 2, 3], dtype=torch.int32)"
            ]
          },
          "execution_count": 163,
          "metadata": {},
          "output_type": "execute_result"
        }
      ],
      "source": [
        "torch.tensor([1.0,2.0,3.0],dtype=torch.int32)"
      ]
    },
    {
      "cell_type": "code",
      "execution_count": null,
      "metadata": {
        "colab": {
          "background_save": true,
          "base_uri": "https://localhost:8080/"
        },
        "id": "9LIPZu2zTm7y",
        "outputId": "9b1d4f5a-1b87-4da0-ab66-503114b2cc62"
      },
      "outputs": [
        {
          "data": {
            "text/plain": [
              "tensor([1., 2., 3.], dtype=torch.float64)"
            ]
          },
          "execution_count": 164,
          "metadata": {},
          "output_type": "execute_result"
        }
      ],
      "source": [
        "torch.tensor([1,2,3],dtype = torch.float64)"
      ]
    },
    {
      "cell_type": "code",
      "execution_count": null,
      "metadata": {
        "colab": {
          "background_save": true,
          "base_uri": "https://localhost:8080/"
        },
        "id": "QNPa72T-Ttqc",
        "outputId": "f0fceb0c-e628-4468-bd48-1b474807a616"
      },
      "outputs": [
        {
          "data": {
            "text/plain": [
              "tensor([[1., 2., 3.],\n",
              "        [4., 5., 6.]], dtype=torch.float64)"
            ]
          },
          "execution_count": 165,
          "metadata": {},
          "output_type": "execute_result"
        }
      ],
      "source": [
        "x.to(torch.float64)"
      ]
    },
    {
      "cell_type": "code",
      "execution_count": null,
      "metadata": {
        "colab": {
          "background_save": true
        },
        "id": "iQxfrFkxTv96"
      },
      "outputs": [],
      "source": []
    },
    {
      "cell_type": "code",
      "execution_count": null,
      "metadata": {
        "colab": {
          "background_save": true
        },
        "id": "SDkS2lUST7yu"
      },
      "outputs": [],
      "source": []
    },
    {
      "cell_type": "markdown",
      "metadata": {
        "id": "gAFQO_6XT4Z5"
      },
      "source": [
        "# Mathematical Opeartions"
      ]
    },
    {
      "cell_type": "markdown",
      "metadata": {
        "id": "GTKgx53UT83U"
      },
      "source": [
        "## 1.  Scalar Operations\n"
      ]
    },
    {
      "cell_type": "code",
      "execution_count": null,
      "metadata": {
        "colab": {
          "background_save": true,
          "base_uri": "https://localhost:8080/"
        },
        "id": "MSjSInbYT_qV",
        "outputId": "b2dbddf8-5a12-47ce-aad2-baad49ec6dd7"
      },
      "outputs": [
        {
          "data": {
            "text/plain": [
              "tensor([[0.5171, 0.8283],\n",
              "        [0.0155, 0.3812]])"
            ]
          },
          "execution_count": 166,
          "metadata": {},
          "output_type": "execute_result"
        }
      ],
      "source": [
        "x = torch.rand(2,2)\n",
        "x"
      ]
    },
    {
      "cell_type": "code",
      "execution_count": null,
      "metadata": {
        "colab": {
          "background_save": true,
          "base_uri": "https://localhost:8080/"
        },
        "id": "1Nu8g3fIUHBf",
        "outputId": "d18733fd-e876-4e23-9914-8122cb6d0bff"
      },
      "outputs": [
        {
          "data": {
            "text/plain": [
              "tensor([[2.6739e-01, 6.8604e-01],\n",
              "        [2.4087e-04, 1.4529e-01]])"
            ]
          },
          "execution_count": 167,
          "metadata": {},
          "output_type": "execute_result"
        }
      ],
      "source": [
        "x + 2\n",
        "x - 2\n",
        "x * 3\n",
        "x / 3\n",
        "#int division\n",
        "(x* 100) // 3\n",
        "\n",
        "#mod\n",
        "((x * 100)//3)%2\n",
        "\n",
        "# power\n",
        "x**2\n"
      ]
    },
    {
      "cell_type": "markdown",
      "metadata": {
        "id": "FgunjFU-UtjH"
      },
      "source": []
    },
    {
      "cell_type": "code",
      "execution_count": null,
      "metadata": {
        "colab": {
          "background_save": true
        },
        "id": "2SSMjTV5UtL9"
      },
      "outputs": [],
      "source": []
    },
    {
      "cell_type": "markdown",
      "metadata": {
        "id": "fs8tMHrNUvm5"
      },
      "source": [
        "## # element wise operations"
      ]
    },
    {
      "cell_type": "code",
      "execution_count": null,
      "metadata": {
        "colab": {
          "background_save": true,
          "base_uri": "https://localhost:8080/"
        },
        "id": "y7mqogt7UI04",
        "outputId": "4189b908-3f5f-4e20-9507-b9b69c5708ad"
      },
      "outputs": [
        {
          "name": "stdout",
          "output_type": "stream",
          "text": [
            "tensor([[0.3603, 0.2624, 0.6128],\n",
            "        [0.3324, 0.4282, 0.3356]])\n",
            "tensor([[0.4157, 0.0660, 0.1497],\n",
            "        [0.6069, 0.0908, 0.2332]])\n"
          ]
        }
      ],
      "source": [
        "\n",
        "a = torch.rand(2,3)\n",
        "b = torch.rand(2,3)\n",
        "\n",
        "\n",
        "print(a)\n",
        "print(b)\n",
        "\n"
      ]
    },
    {
      "cell_type": "code",
      "execution_count": null,
      "metadata": {
        "colab": {
          "background_save": true,
          "base_uri": "https://localhost:8080/"
        },
        "id": "yF2ZUywcUpqC",
        "outputId": "f2c82902-70cd-4efd-ec88-2e24609fbb6f"
      },
      "outputs": [
        {
          "data": {
            "text/plain": [
              "tensor([[0.3603, 0.0643, 0.0142],\n",
              "        [0.3324, 0.0649, 0.1024]])"
            ]
          },
          "execution_count": 169,
          "metadata": {},
          "output_type": "execute_result"
        }
      ],
      "source": [
        "a + b\n",
        "a - b\n",
        "a * b\n",
        "a / b\n",
        "a ** b\n",
        "a % b"
      ]
    },
    {
      "cell_type": "code",
      "execution_count": null,
      "metadata": {
        "id": "JCzs4oRsUyqJ"
      },
      "outputs": [],
      "source": [
        "c = torch.tensor([1,-2,3 ,-4])"
      ]
    },
    {
      "cell_type": "code",
      "execution_count": null,
      "metadata": {
        "colab": {
          "base_uri": "https://localhost:8080/"
        },
        "id": "QbRRW-WDVA9W",
        "outputId": "6d977c87-1fac-4ef3-8563-eea06137c592"
      },
      "outputs": [
        {
          "data": {
            "text/plain": [
              "tensor([-1,  2, -3,  4])"
            ]
          },
          "execution_count": 52,
          "metadata": {},
          "output_type": "execute_result"
        }
      ],
      "source": [
        "torch.neg(c)"
      ]
    },
    {
      "cell_type": "code",
      "execution_count": null,
      "metadata": {
        "colab": {
          "base_uri": "https://localhost:8080/"
        },
        "id": "AHMhbHS9VH7N",
        "outputId": "be391ab5-20bd-4d07-c2a3-c923e16cc97c"
      },
      "outputs": [
        {
          "data": {
            "text/plain": [
              "tensor([1, 2, 3, 4])"
            ]
          },
          "execution_count": 53,
          "metadata": {},
          "output_type": "execute_result"
        }
      ],
      "source": [
        "# abs\n",
        "torch.abs(c)"
      ]
    },
    {
      "cell_type": "code",
      "execution_count": null,
      "metadata": {
        "id": "9pqRu_lSVhb9"
      },
      "outputs": [],
      "source": [
        "d = torch.tensor([1.9, 2.3, 3.7, 4.4])"
      ]
    },
    {
      "cell_type": "code",
      "execution_count": null,
      "metadata": {
        "colab": {
          "base_uri": "https://localhost:8080/"
        },
        "id": "ZAda4gFqVnpt",
        "outputId": "413684e6-5ad2-4e36-d64d-751c09147cc0"
      },
      "outputs": [
        {
          "data": {
            "text/plain": [
              "tensor([2., 2., 4., 4.])"
            ]
          },
          "execution_count": 55,
          "metadata": {},
          "output_type": "execute_result"
        }
      ],
      "source": [
        "# round\n",
        "torch.round(d)\n"
      ]
    },
    {
      "cell_type": "code",
      "execution_count": null,
      "metadata": {
        "colab": {
          "base_uri": "https://localhost:8080/"
        },
        "id": "ssXUbub0VuKc",
        "outputId": "51d8cb57-927a-4927-8d5c-ac07e3682bef"
      },
      "outputs": [
        {
          "data": {
            "text/plain": [
              "tensor([2., 3., 4., 5.])"
            ]
          },
          "execution_count": 56,
          "metadata": {},
          "output_type": "execute_result"
        }
      ],
      "source": [
        "#ceil\n",
        "torch.ceil(d)"
      ]
    },
    {
      "cell_type": "code",
      "execution_count": null,
      "metadata": {
        "colab": {
          "base_uri": "https://localhost:8080/"
        },
        "id": "0NlSJIuWVyZH",
        "outputId": "7cafec83-e7a4-48db-e266-dfdd44a34300"
      },
      "outputs": [
        {
          "data": {
            "text/plain": [
              "tensor([1., 2., 3., 4.])"
            ]
          },
          "execution_count": 57,
          "metadata": {},
          "output_type": "execute_result"
        }
      ],
      "source": [
        "#floor\n",
        "torch.floor(d)"
      ]
    },
    {
      "cell_type": "code",
      "execution_count": null,
      "metadata": {
        "colab": {
          "base_uri": "https://localhost:8080/"
        },
        "id": "7-0eDaQ4V1sC",
        "outputId": "aaf844f6-3545-441f-f0cd-975c3086c19a"
      },
      "outputs": [
        {
          "data": {
            "text/plain": [
              "tensor([2.0000, 2.3000, 3.0000, 3.0000])"
            ]
          },
          "execution_count": 59,
          "metadata": {},
          "output_type": "execute_result"
        }
      ],
      "source": [
        "torch.clamp(d, min = 2 , max = 3)"
      ]
    },
    {
      "cell_type": "code",
      "execution_count": null,
      "metadata": {
        "id": "ADacJj6_WRQ3"
      },
      "outputs": [],
      "source": []
    },
    {
      "cell_type": "markdown",
      "metadata": {
        "id": "vfbUrRLUWVan"
      },
      "source": [
        "## Reduction OPeration"
      ]
    },
    {
      "cell_type": "code",
      "execution_count": null,
      "metadata": {
        "id": "mw_VcKxkaSkZ"
      },
      "outputs": [],
      "source": []
    },
    {
      "cell_type": "code",
      "execution_count": null,
      "metadata": {
        "id": "5lBCJtmWWXFr"
      },
      "outputs": [],
      "source": [
        "e = torch.randint(size = (2,3), low = 1, high = 10 , dtype = torch.float32)"
      ]
    },
    {
      "cell_type": "code",
      "execution_count": null,
      "metadata": {
        "colab": {
          "base_uri": "https://localhost:8080/"
        },
        "id": "H_P5vqihWjC-",
        "outputId": "ccf90ea0-aba7-4d75-f1d8-813feba33a04"
      },
      "outputs": [
        {
          "data": {
            "text/plain": [
              "tensor([[9., 3., 5.],\n",
              "        [7., 7., 1.]])"
            ]
          },
          "execution_count": 80,
          "metadata": {},
          "output_type": "execute_result"
        }
      ],
      "source": [
        "e"
      ]
    },
    {
      "cell_type": "code",
      "execution_count": null,
      "metadata": {
        "colab": {
          "base_uri": "https://localhost:8080/"
        },
        "id": "WM5gVQcpWl2n",
        "outputId": "9543b5c4-fa24-40da-b2f1-46356d7d4d66"
      },
      "outputs": [
        {
          "data": {
            "text/plain": [
              "tensor([17., 15.])"
            ]
          },
          "execution_count": 81,
          "metadata": {},
          "output_type": "execute_result"
        }
      ],
      "source": [
        "#sum\n",
        "torch.sum(e)\n",
        "#sum along columsn\n",
        "torch.sum(e, dim = 0 )\n",
        "#sum along rows\n",
        "torch.sum(e , dim = 1 )\n"
      ]
    },
    {
      "cell_type": "code",
      "execution_count": null,
      "metadata": {
        "colab": {
          "base_uri": "https://localhost:8080/"
        },
        "id": "35NtHrUEXcCj",
        "outputId": "56ccd7a4-22d3-4e0e-81f8-edd4ad87cc17"
      },
      "outputs": [
        {
          "data": {
            "text/plain": [
              "tensor([8., 5., 3.])"
            ]
          },
          "execution_count": 82,
          "metadata": {},
          "output_type": "execute_result"
        }
      ],
      "source": [
        "# mean\n",
        "torch.mean(e)\n",
        "\n",
        "# mean along column\n",
        "torch.mean(e, dim =0 )"
      ]
    },
    {
      "cell_type": "code",
      "execution_count": null,
      "metadata": {
        "colab": {
          "base_uri": "https://localhost:8080/"
        },
        "id": "sZs0XKWKZ0OK",
        "outputId": "2ad88624-ccec-43f6-cf94-9691c38852c6"
      },
      "outputs": [
        {
          "data": {
            "text/plain": [
              "tensor(5.)"
            ]
          },
          "execution_count": 83,
          "metadata": {},
          "output_type": "execute_result"
        }
      ],
      "source": [
        "# median\n",
        "torch.median(e)"
      ]
    },
    {
      "cell_type": "code",
      "execution_count": null,
      "metadata": {
        "colab": {
          "base_uri": "https://localhost:8080/"
        },
        "id": "Ry3LuRw6Z_37",
        "outputId": "7e965e41-1278-44cc-cd1d-e4ff4a7a7142"
      },
      "outputs": [
        {
          "data": {
            "text/plain": [
              "tensor(1.)"
            ]
          },
          "execution_count": 84,
          "metadata": {},
          "output_type": "execute_result"
        }
      ],
      "source": [
        "# max and min\n",
        "torch.max(e)\n",
        "torch.min(e)\n"
      ]
    },
    {
      "cell_type": "code",
      "execution_count": null,
      "metadata": {
        "colab": {
          "base_uri": "https://localhost:8080/"
        },
        "id": "nDw-xD-FaGIg",
        "outputId": "ce049a02-72c8-45b4-c1c9-b3a11e27a50e"
      },
      "outputs": [
        {
          "data": {
            "text/plain": [
              "tensor(6615.)"
            ]
          },
          "execution_count": 85,
          "metadata": {},
          "output_type": "execute_result"
        }
      ],
      "source": [
        "# product\n",
        "torch.prod(e)"
      ]
    },
    {
      "cell_type": "code",
      "execution_count": null,
      "metadata": {
        "colab": {
          "base_uri": "https://localhost:8080/"
        },
        "id": "ecRQv0mkaNBU",
        "outputId": "06b23ebb-deb9-44a1-b047-83a24be55e33"
      },
      "outputs": [
        {
          "data": {
            "text/plain": [
              "tensor(2.9439)"
            ]
          },
          "execution_count": 86,
          "metadata": {},
          "output_type": "execute_result"
        }
      ],
      "source": [
        "# std dev\n",
        "torch.std(e)"
      ]
    },
    {
      "cell_type": "code",
      "execution_count": null,
      "metadata": {
        "colab": {
          "base_uri": "https://localhost:8080/"
        },
        "id": "30fJThr-aX6T",
        "outputId": "87b67e6e-3826-4a36-fd03-5683ecd5a8d6"
      },
      "outputs": [
        {
          "data": {
            "text/plain": [
              "tensor(8.6667)"
            ]
          },
          "execution_count": 87,
          "metadata": {},
          "output_type": "execute_result"
        }
      ],
      "source": [
        "# variance\n",
        "torch.var(e)"
      ]
    },
    {
      "cell_type": "code",
      "execution_count": null,
      "metadata": {
        "colab": {
          "base_uri": "https://localhost:8080/"
        },
        "id": "nxVGxOgmabhQ",
        "outputId": "ceee9b5c-9483-424a-adc7-bcdc248073f6"
      },
      "outputs": [
        {
          "data": {
            "text/plain": [
              "tensor(0)"
            ]
          },
          "execution_count": 88,
          "metadata": {},
          "output_type": "execute_result"
        }
      ],
      "source": [
        "# argmax\n",
        "torch.argmax(e)"
      ]
    },
    {
      "cell_type": "code",
      "execution_count": null,
      "metadata": {
        "colab": {
          "base_uri": "https://localhost:8080/"
        },
        "id": "lruKNC95afcb",
        "outputId": "ca252230-c3dd-4c34-9237-b95859c89aa5"
      },
      "outputs": [
        {
          "data": {
            "text/plain": [
              "tensor(5)"
            ]
          },
          "execution_count": 89,
          "metadata": {},
          "output_type": "execute_result"
        }
      ],
      "source": [
        "#argmin\n",
        "torch.argmin(e)"
      ]
    },
    {
      "cell_type": "code",
      "execution_count": null,
      "metadata": {
        "id": "bUmNxh6eaj2R"
      },
      "outputs": [],
      "source": []
    },
    {
      "cell_type": "markdown",
      "metadata": {
        "id": "5NtxXmCbaoum"
      },
      "source": [
        "# ## Matrix Operations\n"
      ]
    },
    {
      "cell_type": "code",
      "execution_count": null,
      "metadata": {
        "id": "uVxqlpQSapm2"
      },
      "outputs": [],
      "source": [
        "f = torch.randint(size = (2,3), low = 0 , high = 10 )\n",
        "g = torch.randint(size = (3,2), low = 0 , high = 10 )"
      ]
    },
    {
      "cell_type": "code",
      "execution_count": null,
      "metadata": {
        "colab": {
          "base_uri": "https://localhost:8080/"
        },
        "id": "iZX39gfMbpxm",
        "outputId": "71f9d40b-be55-4864-a05c-8e64f4a242bb"
      },
      "outputs": [
        {
          "name": "stdout",
          "output_type": "stream",
          "text": [
            "tensor([[2, 8, 8],\n",
            "        [0, 4, 0]])\n",
            "tensor([[7, 3],\n",
            "        [8, 0],\n",
            "        [3, 2]])\n"
          ]
        }
      ],
      "source": [
        "print(f)\n",
        "print(g)"
      ]
    },
    {
      "cell_type": "code",
      "execution_count": null,
      "metadata": {
        "colab": {
          "base_uri": "https://localhost:8080/"
        },
        "id": "KJ-0TfXGbrmu",
        "outputId": "3153fa06-ebfd-4d98-e70a-c78b7adebb08"
      },
      "outputs": [
        {
          "data": {
            "text/plain": [
              "tensor([[102,  22],\n",
              "        [ 32,   0]])"
            ]
          },
          "execution_count": 92,
          "metadata": {},
          "output_type": "execute_result"
        }
      ],
      "source": [
        "# matrix multiplication\n",
        "torch.matmul(f , g)\n"
      ]
    },
    {
      "cell_type": "code",
      "execution_count": null,
      "metadata": {
        "colab": {
          "base_uri": "https://localhost:8080/"
        },
        "id": "JGqakeuMbyk4",
        "outputId": "4948c6d0-b5e6-422e-8f47-b7382ea2ccc8"
      },
      "outputs": [
        {
          "name": "stdout",
          "output_type": "stream",
          "text": [
            "torch.Size([2])\n"
          ]
        },
        {
          "data": {
            "text/plain": [
              "tensor(11)"
            ]
          },
          "execution_count": 95,
          "metadata": {},
          "output_type": "execute_result"
        }
      ],
      "source": [
        "vector1 = torch.tensor([1,2])\n",
        "vector2 = torch.tensor([3,4])\n",
        "\n",
        "\n",
        "print(vector1.shape)\n",
        "# dot product\n",
        "# dot product\n",
        "\n",
        "torch.dot(vector1, vector2)\n"
      ]
    },
    {
      "cell_type": "code",
      "execution_count": null,
      "metadata": {
        "colab": {
          "base_uri": "https://localhost:8080/"
        },
        "id": "Bwp4FmGPb9cQ",
        "outputId": "142f80ca-706d-4105-acee-9d07306102f0"
      },
      "outputs": [
        {
          "data": {
            "text/plain": [
              "tensor([[2, 0],\n",
              "        [8, 4],\n",
              "        [8, 0]])"
            ]
          },
          "execution_count": 96,
          "metadata": {},
          "output_type": "execute_result"
        }
      ],
      "source": [
        "#transpose\n",
        "torch.transpose(f,0,1)\n"
      ]
    },
    {
      "cell_type": "code",
      "execution_count": null,
      "metadata": {
        "id": "qdRONshWcrVa"
      },
      "outputs": [],
      "source": [
        "h = torch.randint(size = (3,3), low = 1, high = 10 , dtype= torch.float32)"
      ]
    },
    {
      "cell_type": "code",
      "execution_count": null,
      "metadata": {
        "colab": {
          "base_uri": "https://localhost:8080/"
        },
        "id": "67j88z8-c7L_",
        "outputId": "f64d9037-5e86-4da2-bcbf-b70b2e0f2cc3"
      },
      "outputs": [
        {
          "data": {
            "text/plain": [
              "tensor([[3., 1., 6.],\n",
              "        [2., 8., 2.],\n",
              "        [7., 2., 3.]])"
            ]
          },
          "execution_count": 100,
          "metadata": {},
          "output_type": "execute_result"
        }
      ],
      "source": [
        "h"
      ]
    },
    {
      "cell_type": "code",
      "execution_count": null,
      "metadata": {
        "colab": {
          "base_uri": "https://localhost:8080/"
        },
        "id": "NBpa568cc9j0",
        "outputId": "f3ae88c4-ba88-46b0-903c-8371dc6c930e"
      },
      "outputs": [
        {
          "data": {
            "text/plain": [
              "tensor(-244.)"
            ]
          },
          "execution_count": 101,
          "metadata": {},
          "output_type": "execute_result"
        }
      ],
      "source": [
        "#determinant\n",
        "torch.det(h)"
      ]
    },
    {
      "cell_type": "code",
      "execution_count": null,
      "metadata": {
        "colab": {
          "base_uri": "https://localhost:8080/"
        },
        "id": "bBYoJ_2ndDf9",
        "outputId": "a37cbdcb-9126-4425-b824-1ab751f6038a"
      },
      "outputs": [
        {
          "data": {
            "text/plain": [
              "tensor([[-0.0820, -0.0369,  0.1885],\n",
              "        [-0.0328,  0.1352, -0.0246],\n",
              "        [ 0.2131, -0.0041, -0.0902]])"
            ]
          },
          "execution_count": 102,
          "metadata": {},
          "output_type": "execute_result"
        }
      ],
      "source": [
        "# inverse\n",
        "torch.inverse(h)"
      ]
    },
    {
      "cell_type": "code",
      "execution_count": null,
      "metadata": {
        "id": "QPFhAh6_dJSZ"
      },
      "outputs": [],
      "source": []
    },
    {
      "cell_type": "markdown",
      "metadata": {
        "id": "UhechdXZdKsc"
      },
      "source": [
        "## Comaprison operator"
      ]
    },
    {
      "cell_type": "code",
      "execution_count": null,
      "metadata": {
        "colab": {
          "base_uri": "https://localhost:8080/"
        },
        "id": "Gd5oTmKmdMj6",
        "outputId": "2054fd9b-713f-4a8c-b8bf-8a96d15db56d"
      },
      "outputs": [
        {
          "name": "stdout",
          "output_type": "stream",
          "text": [
            "tensor([[7, 5, 4],\n",
            "        [6, 5, 3]])\n",
            "tensor([[8, 6, 4],\n",
            "        [5, 8, 4]])\n"
          ]
        }
      ],
      "source": [
        "i = torch.randint(size=(2,3), low=1 , high = 10 )\n",
        "j = torch.randint(size=(2,3), low=1 , high = 10 )\n",
        "print(i)\n",
        "print(j)"
      ]
    },
    {
      "cell_type": "code",
      "execution_count": null,
      "metadata": {
        "colab": {
          "base_uri": "https://localhost:8080/"
        },
        "id": "ijc56B2gdWuZ",
        "outputId": "181e8e8e-8e99-459f-e4ae-8ef1c1e85067"
      },
      "outputs": [
        {
          "data": {
            "text/plain": [
              "tensor([[ True,  True, False],\n",
              "        [ True,  True,  True]])"
            ]
          },
          "execution_count": 108,
          "metadata": {},
          "output_type": "execute_result"
        }
      ],
      "source": [
        "#greater than\n",
        "i > j\n",
        "# less than\n",
        "i < j\n",
        "## equal to\n",
        "i == j\n",
        "# not equal to\n",
        "i != j"
      ]
    },
    {
      "cell_type": "code",
      "execution_count": null,
      "metadata": {
        "id": "GMol3XQpdhnG"
      },
      "outputs": [],
      "source": []
    },
    {
      "cell_type": "markdown",
      "metadata": {
        "id": "aVaVIgqvdrVd"
      },
      "source": [
        "## special functions"
      ]
    },
    {
      "cell_type": "code",
      "execution_count": null,
      "metadata": {
        "colab": {
          "base_uri": "https://localhost:8080/"
        },
        "id": "g15ofITHdtIl",
        "outputId": "c8ac0d66-28f7-42f8-fd12-8075b372feab"
      },
      "outputs": [
        {
          "data": {
            "text/plain": [
              "tensor([[8., 9., 9.],\n",
              "        [5., 7., 2.]])"
            ]
          },
          "execution_count": 112,
          "metadata": {},
          "output_type": "execute_result"
        }
      ],
      "source": [
        "k = torch.randint(size=(2,3), low = 1 , high = 10 , dtype= torch.float32)\n",
        "k"
      ]
    },
    {
      "cell_type": "code",
      "execution_count": null,
      "metadata": {
        "colab": {
          "base_uri": "https://localhost:8080/"
        },
        "id": "3diGWYDXd1nN",
        "outputId": "c8148077-a2bc-46fe-afe6-3ffaa596af16"
      },
      "outputs": [
        {
          "data": {
            "text/plain": [
              "tensor([[2.0794, 2.1972, 2.1972],\n",
              "        [1.6094, 1.9459, 0.6931]])"
            ]
          },
          "execution_count": 113,
          "metadata": {},
          "output_type": "execute_result"
        }
      ],
      "source": [
        "# log\n",
        "torch.log(k)"
      ]
    },
    {
      "cell_type": "code",
      "execution_count": null,
      "metadata": {
        "colab": {
          "base_uri": "https://localhost:8080/"
        },
        "id": "4o2RvXyed77t",
        "outputId": "cac36fcf-696f-4010-80ce-ae83f76134ae"
      },
      "outputs": [
        {
          "data": {
            "text/plain": [
              "tensor([[2.9810e+03, 8.1031e+03, 8.1031e+03],\n",
              "        [1.4841e+02, 1.0966e+03, 7.3891e+00]])"
            ]
          },
          "execution_count": 114,
          "metadata": {},
          "output_type": "execute_result"
        }
      ],
      "source": [
        "# exp\n",
        "torch.exp(k)"
      ]
    },
    {
      "cell_type": "code",
      "execution_count": null,
      "metadata": {
        "colab": {
          "base_uri": "https://localhost:8080/"
        },
        "id": "yjEhbY-UeD4x",
        "outputId": "f152617a-a6ed-4ccb-bab3-f4eb63a4a383"
      },
      "outputs": [
        {
          "data": {
            "text/plain": [
              "tensor([[2.8284, 3.0000, 3.0000],\n",
              "        [2.2361, 2.6458, 1.4142]])"
            ]
          },
          "execution_count": 115,
          "metadata": {},
          "output_type": "execute_result"
        }
      ],
      "source": [
        "#sqrt\n",
        "torch.sqrt(k)"
      ]
    },
    {
      "cell_type": "code",
      "execution_count": null,
      "metadata": {
        "colab": {
          "base_uri": "https://localhost:8080/"
        },
        "id": "XaPy6VZZeKDV",
        "outputId": "c8eef5f2-b398-4d48-e475-d9de493a462f"
      },
      "outputs": [
        {
          "data": {
            "text/plain": [
              "tensor([[0.9997, 0.9999, 0.9999],\n",
              "        [0.9933, 0.9991, 0.8808]])"
            ]
          },
          "execution_count": 116,
          "metadata": {},
          "output_type": "execute_result"
        }
      ],
      "source": [
        "#sigmoid\n",
        "torch.sigmoid(k)"
      ]
    },
    {
      "cell_type": "code",
      "execution_count": null,
      "metadata": {
        "colab": {
          "base_uri": "https://localhost:8080/"
        },
        "id": "oGPa24HUeNW5",
        "outputId": "b061e478-3e98-451f-d1fa-aeda611ba21d"
      },
      "outputs": [
        {
          "data": {
            "text/plain": [
              "tensor([[9.5257e-01, 8.8080e-01, 9.9909e-01],\n",
              "        [4.7426e-02, 1.1920e-01, 9.1105e-04]])"
            ]
          },
          "execution_count": 117,
          "metadata": {},
          "output_type": "execute_result"
        }
      ],
      "source": [
        "#softmax\n",
        "torch.softmax(k , dim = 0 )"
      ]
    },
    {
      "cell_type": "code",
      "execution_count": null,
      "metadata": {
        "colab": {
          "base_uri": "https://localhost:8080/"
        },
        "id": "0fa2CQuYeSDJ",
        "outputId": "34a91894-7b41-4f1d-81e6-f2a791e6a0db"
      },
      "outputs": [
        {
          "data": {
            "text/plain": [
              "tensor([[8., 9., 9.],\n",
              "        [5., 7., 2.]])"
            ]
          },
          "execution_count": 118,
          "metadata": {},
          "output_type": "execute_result"
        }
      ],
      "source": [
        "# relu\n",
        "torch.relu(k)"
      ]
    },
    {
      "cell_type": "code",
      "execution_count": null,
      "metadata": {
        "id": "vTpJXMeLeWsu"
      },
      "outputs": [],
      "source": []
    },
    {
      "cell_type": "markdown",
      "metadata": {
        "id": "8Sb2o8DjeXxo"
      },
      "source": [
        "## Inplace operations\n"
      ]
    },
    {
      "cell_type": "markdown",
      "metadata": {
        "id": "IW_DNHw6eXhR"
      },
      "source": [
        "\n",
        "\n",
        "```\n",
        "`# This is formatted as code`\n",
        "```\n",
        "\n"
      ]
    },
    {
      "cell_type": "code",
      "execution_count": null,
      "metadata": {
        "colab": {
          "base_uri": "https://localhost:8080/"
        },
        "id": "GHcpfOceedHT",
        "outputId": "dc9ac51d-108b-441f-973c-4042592be74a"
      },
      "outputs": [
        {
          "name": "stdout",
          "output_type": "stream",
          "text": [
            "tensor([[0.9019, 0.2153, 0.5197],\n",
            "        [0.5596, 0.7077, 0.5092]])\n",
            "tensor([[0.5526, 0.4243, 0.9491],\n",
            "        [0.7472, 0.7512, 0.3975]])\n"
          ]
        }
      ],
      "source": [
        "m = torch.rand(2,3)\n",
        "n = torch.rand(2,3)\n",
        "\n",
        "print(m)\n",
        "print(n)"
      ]
    },
    {
      "cell_type": "code",
      "execution_count": null,
      "metadata": {
        "colab": {
          "base_uri": "https://localhost:8080/"
        },
        "id": "htZ05X6rehMl",
        "outputId": "e6ce4fc5-bdce-4a44-d72b-e5d57ad90d0d"
      },
      "outputs": [
        {
          "data": {
            "text/plain": [
              "tensor([[1.4545, 0.6396, 1.4688],\n",
              "        [1.3068, 1.4589, 0.9067]])"
            ]
          },
          "execution_count": 122,
          "metadata": {},
          "output_type": "execute_result"
        }
      ],
      "source": [
        "m.add_(n)"
      ]
    },
    {
      "cell_type": "code",
      "execution_count": null,
      "metadata": {
        "colab": {
          "base_uri": "https://localhost:8080/"
        },
        "id": "x6GoX-25em9H",
        "outputId": "352c3d07-c0f4-4281-eb04-8e151eee30e7"
      },
      "outputs": [
        {
          "data": {
            "text/plain": [
              "tensor([[1.4545, 0.6396, 1.4688],\n",
              "        [1.3068, 1.4589, 0.9067]])"
            ]
          },
          "execution_count": 123,
          "metadata": {},
          "output_type": "execute_result"
        }
      ],
      "source": [
        "m"
      ]
    },
    {
      "cell_type": "code",
      "execution_count": null,
      "metadata": {
        "colab": {
          "base_uri": "https://localhost:8080/"
        },
        "id": "QUC-d_6WepCp",
        "outputId": "956e886f-03c7-49a7-9207-e161fb8bd58f"
      },
      "outputs": [
        {
          "data": {
            "text/plain": [
              "tensor([[0.5526, 0.4243, 0.9491],\n",
              "        [0.7472, 0.7512, 0.3975]])"
            ]
          },
          "execution_count": 124,
          "metadata": {},
          "output_type": "execute_result"
        }
      ],
      "source": [
        "n"
      ]
    },
    {
      "cell_type": "code",
      "execution_count": null,
      "metadata": {
        "colab": {
          "base_uri": "https://localhost:8080/"
        },
        "id": "thJTdc00eqkS",
        "outputId": "d3ceef03-41bf-488a-82ac-5b7c50d4885f"
      },
      "outputs": [
        {
          "data": {
            "text/plain": [
              "tensor([[1.4545, 0.6396, 1.4688],\n",
              "        [1.3068, 1.4589, 0.9067]])"
            ]
          },
          "execution_count": 126,
          "metadata": {},
          "output_type": "execute_result"
        }
      ],
      "source": [
        "torch.relu(m)"
      ]
    },
    {
      "cell_type": "code",
      "execution_count": null,
      "metadata": {
        "colab": {
          "base_uri": "https://localhost:8080/"
        },
        "id": "gj2iRpldetHG",
        "outputId": "3dc8d40f-11d5-4daf-f1d7-af3732553236"
      },
      "outputs": [
        {
          "data": {
            "text/plain": [
              "tensor([[1.4545, 0.6396, 1.4688],\n",
              "        [1.3068, 1.4589, 0.9067]])"
            ]
          },
          "execution_count": 127,
          "metadata": {},
          "output_type": "execute_result"
        }
      ],
      "source": [
        "m.relu_()"
      ]
    },
    {
      "cell_type": "code",
      "execution_count": null,
      "metadata": {
        "colab": {
          "base_uri": "https://localhost:8080/"
        },
        "id": "lr6NwbEaewiI",
        "outputId": "bc322b04-ede5-4f14-b93f-d67a8a4aa110"
      },
      "outputs": [
        {
          "data": {
            "text/plain": [
              "tensor([[1.4545, 0.6396, 1.4688],\n",
              "        [1.3068, 1.4589, 0.9067]])"
            ]
          },
          "execution_count": 128,
          "metadata": {},
          "output_type": "execute_result"
        }
      ],
      "source": [
        "m"
      ]
    },
    {
      "cell_type": "markdown",
      "metadata": {
        "id": "Zv67_pbSezce"
      },
      "source": [
        "## Copying tensor"
      ]
    },
    {
      "cell_type": "code",
      "execution_count": null,
      "metadata": {
        "colab": {
          "base_uri": "https://localhost:8080/"
        },
        "id": "_css_dete3Ou",
        "outputId": "83f89149-44af-429f-bd75-9f5b8cdbbcfb"
      },
      "outputs": [
        {
          "data": {
            "text/plain": [
              "tensor([[0.1348, 0.6183, 0.9331],\n",
              "        [0.8799, 0.3005, 0.9791]])"
            ]
          },
          "execution_count": 129,
          "metadata": {},
          "output_type": "execute_result"
        }
      ],
      "source": [
        " a = torch.rand(2,3)\n",
        " a"
      ]
    },
    {
      "cell_type": "code",
      "execution_count": null,
      "metadata": {
        "id": "dztVS1fpexl1"
      },
      "outputs": [],
      "source": [
        "b = a"
      ]
    },
    {
      "cell_type": "code",
      "execution_count": null,
      "metadata": {
        "colab": {
          "base_uri": "https://localhost:8080/"
        },
        "id": "vW2mqxbVe7PG",
        "outputId": "e6b9616c-6936-4cf3-8a57-2e352d1c22fb"
      },
      "outputs": [
        {
          "data": {
            "text/plain": [
              "tensor([[0.1348, 0.6183, 0.9331],\n",
              "        [0.8799, 0.3005, 0.9791]])"
            ]
          },
          "execution_count": 131,
          "metadata": {},
          "output_type": "execute_result"
        }
      ],
      "source": [
        "b"
      ]
    },
    {
      "cell_type": "code",
      "execution_count": null,
      "metadata": {
        "id": "rWhSDPWTe7tC"
      },
      "outputs": [],
      "source": [
        "a[0][0] = 0"
      ]
    },
    {
      "cell_type": "code",
      "execution_count": null,
      "metadata": {
        "colab": {
          "base_uri": "https://localhost:8080/"
        },
        "id": "6gAZDiRle-IR",
        "outputId": "d5975948-6305-4708-9a5c-08f36c8dd006"
      },
      "outputs": [
        {
          "data": {
            "text/plain": [
              "tensor([[0.0000, 0.6183, 0.9331],\n",
              "        [0.8799, 0.3005, 0.9791]])"
            ]
          },
          "execution_count": 133,
          "metadata": {},
          "output_type": "execute_result"
        }
      ],
      "source": [
        "a"
      ]
    },
    {
      "cell_type": "code",
      "execution_count": null,
      "metadata": {
        "colab": {
          "base_uri": "https://localhost:8080/"
        },
        "id": "23NAm8oOe-b7",
        "outputId": "25d3c2b4-6b1d-4936-b78e-05135b449275"
      },
      "outputs": [
        {
          "data": {
            "text/plain": [
              "tensor([[0.0000, 0.6183, 0.9331],\n",
              "        [0.8799, 0.3005, 0.9791]])"
            ]
          },
          "execution_count": 134,
          "metadata": {},
          "output_type": "execute_result"
        }
      ],
      "source": [
        "b"
      ]
    },
    {
      "cell_type": "code",
      "execution_count": null,
      "metadata": {
        "colab": {
          "base_uri": "https://localhost:8080/"
        },
        "id": "LaXcZGFZe_ey",
        "outputId": "d38b5395-e198-4b15-d973-a23839f03c8f"
      },
      "outputs": [
        {
          "data": {
            "text/plain": [
              "138367740160560"
            ]
          },
          "execution_count": 135,
          "metadata": {},
          "output_type": "execute_result"
        }
      ],
      "source": [
        "id(a)"
      ]
    },
    {
      "cell_type": "code",
      "execution_count": null,
      "metadata": {
        "colab": {
          "base_uri": "https://localhost:8080/"
        },
        "id": "4d4db9VkfAvU",
        "outputId": "61780366-89a7-48e9-e567-8ac920dfe48e"
      },
      "outputs": [
        {
          "data": {
            "text/plain": [
              "138367740160560"
            ]
          },
          "execution_count": 136,
          "metadata": {},
          "output_type": "execute_result"
        }
      ],
      "source": [
        "id(b)"
      ]
    },
    {
      "cell_type": "code",
      "execution_count": null,
      "metadata": {
        "id": "e5_PzeEnfOGk"
      },
      "outputs": [],
      "source": [
        "b = a.clone()"
      ]
    },
    {
      "cell_type": "code",
      "execution_count": null,
      "metadata": {
        "colab": {
          "base_uri": "https://localhost:8080/"
        },
        "id": "so3KdI0MfQwV",
        "outputId": "a87a55db-1dd2-472e-88c4-f6ee42c07183"
      },
      "outputs": [
        {
          "data": {
            "text/plain": [
              "tensor([[0.0000, 0.6183, 0.9331],\n",
              "        [0.8799, 0.3005, 0.9791]])"
            ]
          },
          "execution_count": 138,
          "metadata": {},
          "output_type": "execute_result"
        }
      ],
      "source": [
        "a\n"
      ]
    },
    {
      "cell_type": "code",
      "execution_count": null,
      "metadata": {
        "colab": {
          "base_uri": "https://localhost:8080/"
        },
        "id": "Yx_ThrCifRpv",
        "outputId": "6423daa1-2611-4add-b2ca-ed2159647eb5"
      },
      "outputs": [
        {
          "data": {
            "text/plain": [
              "tensor([[0.0000, 0.6183, 0.9331],\n",
              "        [0.8799, 0.3005, 0.9791]])"
            ]
          },
          "execution_count": 139,
          "metadata": {},
          "output_type": "execute_result"
        }
      ],
      "source": [
        "b"
      ]
    },
    {
      "cell_type": "code",
      "execution_count": null,
      "metadata": {
        "id": "abUaZXftfSda"
      },
      "outputs": [],
      "source": [
        "a[0][0]= 10"
      ]
    },
    {
      "cell_type": "code",
      "execution_count": null,
      "metadata": {
        "colab": {
          "base_uri": "https://localhost:8080/"
        },
        "id": "uiQBU7cMfU_d",
        "outputId": "5419fd48-762c-4c70-ba20-0f0085845a1d"
      },
      "outputs": [
        {
          "data": {
            "text/plain": [
              "tensor([[10.0000,  0.6183,  0.9331],\n",
              "        [ 0.8799,  0.3005,  0.9791]])"
            ]
          },
          "execution_count": 141,
          "metadata": {},
          "output_type": "execute_result"
        }
      ],
      "source": [
        "a"
      ]
    },
    {
      "cell_type": "code",
      "execution_count": null,
      "metadata": {
        "colab": {
          "base_uri": "https://localhost:8080/"
        },
        "id": "k4PCJ5dwfVdM",
        "outputId": "dd58d5f0-118b-4f78-8304-2e02b20ea6c2"
      },
      "outputs": [
        {
          "data": {
            "text/plain": [
              "tensor([[0.0000, 0.6183, 0.9331],\n",
              "        [0.8799, 0.3005, 0.9791]])"
            ]
          },
          "execution_count": 142,
          "metadata": {},
          "output_type": "execute_result"
        }
      ],
      "source": [
        "b"
      ]
    },
    {
      "cell_type": "code",
      "execution_count": null,
      "metadata": {
        "id": "o9ipXgd0fVx8"
      },
      "outputs": [],
      "source": []
    },
    {
      "cell_type": "markdown",
      "source": [
        "## Tensors Operations on Gpu\n"
      ],
      "metadata": {
        "id": "Fc8XxAOQFEKW"
      }
    },
    {
      "cell_type": "code",
      "source": [
        "import torch"
      ],
      "metadata": {
        "id": "rxaAvgBOFfQe"
      },
      "execution_count": 2,
      "outputs": []
    },
    {
      "cell_type": "code",
      "source": [
        "torch.cuda.is_available()"
      ],
      "metadata": {
        "colab": {
          "base_uri": "https://localhost:8080/"
        },
        "id": "l91-8u0JFKUD",
        "outputId": "0d24b1ac-3d67-4b9e-9ca9-df3ada1985e1"
      },
      "execution_count": 3,
      "outputs": [
        {
          "output_type": "execute_result",
          "data": {
            "text/plain": [
              "True"
            ]
          },
          "metadata": {},
          "execution_count": 3
        }
      ]
    },
    {
      "cell_type": "code",
      "source": [
        "device = torch.device('cuda')"
      ],
      "metadata": {
        "id": "KplV4wzvFXVJ"
      },
      "execution_count": 4,
      "outputs": []
    },
    {
      "cell_type": "code",
      "source": [
        "# creting a new tensor on gpu\n",
        "torch.rand((2,3),device = device)"
      ],
      "metadata": {
        "colab": {
          "base_uri": "https://localhost:8080/"
        },
        "id": "kr3KWysbGAZf",
        "outputId": "19ea5bd4-f935-497b-e7a1-a08d931f205d"
      },
      "execution_count": 5,
      "outputs": [
        {
          "output_type": "execute_result",
          "data": {
            "text/plain": [
              "tensor([[0.5859, 0.4172, 0.3632],\n",
              "        [0.7296, 0.6516, 0.2673]], device='cuda:0')"
            ]
          },
          "metadata": {},
          "execution_count": 5
        }
      ]
    },
    {
      "cell_type": "code",
      "source": [
        "# moving an existing tensor to gpu\n",
        "a = torch.rand(2,3)\n",
        "a"
      ],
      "metadata": {
        "colab": {
          "base_uri": "https://localhost:8080/"
        },
        "id": "Bzn8TkIyFz5I",
        "outputId": "a7a2661c-48e4-44bd-daa5-1e638a2921a9"
      },
      "execution_count": 7,
      "outputs": [
        {
          "output_type": "execute_result",
          "data": {
            "text/plain": [
              "tensor([[0.6186, 0.3153, 0.0330],\n",
              "        [0.6405, 0.2781, 0.7196]])"
            ]
          },
          "metadata": {},
          "execution_count": 7
        }
      ]
    },
    {
      "cell_type": "code",
      "source": [
        "b = a.to(device)\n",
        "b"
      ],
      "metadata": {
        "colab": {
          "base_uri": "https://localhost:8080/"
        },
        "id": "JXqYbmybGN31",
        "outputId": "4fd58431-9b6d-4102-cdad-97e22a625eb8"
      },
      "execution_count": 9,
      "outputs": [
        {
          "output_type": "execute_result",
          "data": {
            "text/plain": [
              "tensor([[0.6186, 0.3153, 0.0330],\n",
              "        [0.6405, 0.2781, 0.7196]], device='cuda:0')"
            ]
          },
          "metadata": {},
          "execution_count": 9
        }
      ]
    },
    {
      "cell_type": "code",
      "source": [
        "b + 5"
      ],
      "metadata": {
        "colab": {
          "base_uri": "https://localhost:8080/"
        },
        "id": "sylrBdSMGZLh",
        "outputId": "f083cba2-4a24-4ea5-fd69-2eb6144446be"
      },
      "execution_count": 10,
      "outputs": [
        {
          "output_type": "execute_result",
          "data": {
            "text/plain": [
              "tensor([[5.6186, 5.3153, 5.0330],\n",
              "        [5.6405, 5.2781, 5.7196]], device='cuda:0')"
            ]
          },
          "metadata": {},
          "execution_count": 10
        }
      ]
    },
    {
      "cell_type": "code",
      "source": [
        "import torch\n",
        "import time\n",
        "\n",
        "# Define the size of matrices\n",
        "size = 1000\n",
        "\n",
        "# Create random matrices on CPU\n",
        "matrix_cpu1 = torch.randn(size, size)\n",
        "matrix_cpu2 = torch.randn(size, size)\n",
        "\n",
        "# Measure time on CPU\n",
        "start_time = time.time()\n",
        "result_cpu = torch.matmul(matrix_cpu1, matrix_cpu2)\n",
        "cpu_time = time.time() - start_time\n",
        "\n",
        "print(f\"Time on CPU: {cpu_time:.4f} seconds\")\n",
        "\n",
        "# Move matrices to GPU (if available)\n",
        "if torch.cuda.is_available():\n",
        "    matrix_gpu1 = matrix_cpu1.to('cuda')\n",
        "    matrix_gpu2 = matrix_cpu2.to('cuda')\n",
        "\n",
        "    # Warm-up GPU (important for fair timing)\n",
        "    _ = torch.matmul(matrix_gpu1, matrix_gpu2)\n",
        "    torch.cuda.synchronize()\n",
        "\n",
        "    # Measure time on GPU\n",
        "    start_time = time.time()\n",
        "    result_gpu = torch.matmul(matrix_gpu1, matrix_gpu2)\n",
        "    torch.cuda.synchronize()  # Wait for GPU to finish before stopping timer\n",
        "    gpu_time = time.time() - start_time\n",
        "\n",
        "    print(f\"Time on GPU: {gpu_time:.4f} seconds\")\n",
        "\n",
        "    # Compare performance\n",
        "    print(f\"\\nSpeedup (CPU time / GPU time): {cpu_time / gpu_time:.2f}x\")\n",
        "\n",
        "else:\n",
        "    print(\"⚠️ CUDA is not available. GPU test skipped.\")\n"
      ],
      "metadata": {
        "colab": {
          "base_uri": "https://localhost:8080/"
        },
        "id": "YORaHeAjIX1I",
        "outputId": "30a309d5-c3ad-4a73-f289-3348707d8863"
      },
      "execution_count": 14,
      "outputs": [
        {
          "output_type": "stream",
          "name": "stdout",
          "text": [
            "Time on CPU: 0.0265 seconds\n",
            "Time on GPU: 0.0008 seconds\n",
            "\n",
            "Speedup (CPU time / GPU time): 32.11x\n"
          ]
        }
      ]
    },
    {
      "cell_type": "code",
      "source": [],
      "metadata": {
        "id": "p-EKoiSFIvLn"
      },
      "execution_count": null,
      "outputs": []
    }
  ],
  "metadata": {
    "accelerator": "GPU",
    "colab": {
      "gpuType": "T4",
      "provenance": []
    },
    "kernelspec": {
      "display_name": "Python 3",
      "name": "python3"
    },
    "language_info": {
      "name": "python"
    }
  },
  "nbformat": 4,
  "nbformat_minor": 0
}